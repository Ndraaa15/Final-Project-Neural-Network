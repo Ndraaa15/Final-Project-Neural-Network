{
 "cells": [
  {
   "cell_type": "code",
   "execution_count": 13,
   "metadata": {},
   "outputs": [],
   "source": [
    "import numpy as np\n",
    "import pandas as pd\n",
    "from sklearn.model_selection import StratifiedKFold\n",
    "from sklearn.preprocessing import StandardScaler\n",
    "from sklearn.metrics import classification_report, confusion_matrix\n",
    "import matplotlib.pyplot as plt\n",
    "import seaborn as sns"
   ]
  },
  {
   "cell_type": "code",
   "execution_count": 14,
   "metadata": {},
   "outputs": [],
   "source": [
    "import numpy as np\n",
    "import pandas as pd\n",
    "\n",
    "class Backpropagation:\n",
    "    def __init__(self, input_size, hidden_size1, hidden_size2, output_size):\n",
    "        self.input_size = input_size\n",
    "        self.hidden_size1 = hidden_size1\n",
    "        self.hidden_size2 = hidden_size2\n",
    "        self.output_size = output_size\n",
    "\n",
    "        self.weights_input_hidden1 = np.random.randn(self.input_size, self.hidden_size1)\n",
    "        self.weights_hidden1_hidden2 = np.random.randn(self.hidden_size1, self.hidden_size2)\n",
    "        self.weights_hidden2_output = np.random.randn(self.hidden_size2, self.output_size)\n",
    "\n",
    "        self.bias_hidden1 = np.zeros((1, self.hidden_size1))\n",
    "        self.bias_hidden2 = np.zeros((1, self.hidden_size2))\n",
    "        self.bias_output = np.zeros((1, self.output_size))\n",
    "\n",
    "    def step_bin(self, x, th=0.5):\n",
    "        return np.where(x >= th, 1, 0)\n",
    "\n",
    "    def step_bin_derivative(self, x):\n",
    "        return np.zeros_like(x)\n",
    "\n",
    "    def feedforward(self, X):\n",
    "        self.hidden1_activation = np.dot(X, self.weights_input_hidden1) + self.bias_hidden1\n",
    "        self.hidden1_output = self.step_bin(self.hidden1_activation)\n",
    "\n",
    "        self.hidden2_activation = np.dot(self.hidden1_output, self.weights_hidden1_hidden2) + self.bias_hidden2\n",
    "        self.hidden2_output = self.step_bin(self.hidden2_activation)\n",
    "\n",
    "        self.output_activation = np.dot(self.hidden2_output, self.weights_hidden2_output) + self.bias_output\n",
    "        self.predicted_output = self.step_bin(self.output_activation)\n",
    "\n",
    "        return self.predicted_output\n",
    "\n",
    "    def backward(self, X, y, learning_rate):\n",
    "        output_error = y - self.predicted_output\n",
    "        output_delta = output_error * self.step_bin_derivative(self.predicted_output)\n",
    "\n",
    "        hidden2_error = np.dot(output_delta, self.weights_hidden2_output.T)\n",
    "        hidden2_delta = hidden2_error * self.step_bin_derivative(self.hidden2_output)\n",
    "\n",
    "        hidden1_error = np.dot(hidden2_delta, self.weights_hidden1_hidden2.T)\n",
    "        hidden1_delta = hidden1_error * self.step_bin_derivative(self.hidden1_output)\n",
    "\n",
    "        self.weights_hidden2_output += np.dot(self.hidden2_output.T, output_delta) * learning_rate\n",
    "        self.bias_output += np.sum(output_delta, axis=0, keepdims=True) * learning_rate\n",
    "\n",
    "        self.weights_hidden1_hidden2 += np.dot(self.hidden1_output.T, hidden2_delta) * learning_rate\n",
    "        self.bias_hidden2 += np.sum(hidden2_delta, axis=0, keepdims=True) * learning_rate\n",
    "\n",
    "        self.weights_input_hidden1 += np.dot(X.T, hidden1_delta) * learning_rate\n",
    "        self.bias_hidden1 += np.sum(hidden1_delta, axis=0, keepdims=True) * learning_rate\n",
    "\n",
    "    def train(self, X, y, epochs, learning_rate):\n",
    "        for epoch in range(epochs):\n",
    "            output = self.feedforward(X)\n",
    "            self.backward(X, y, learning_rate)\n",
    "            if epoch % 4000 == 0:\n",
    "                loss = np.mean(np.square(y - output))\n",
    "                print(f\"Epoch {epoch}, Loss:{loss}\")\n"
   ]
  },
  {
   "cell_type": "code",
   "execution_count": 15,
   "metadata": {},
   "outputs": [
    {
     "data": {
      "text/plain": [
       "(2063, 21)"
      ]
     },
     "execution_count": 15,
     "metadata": {},
     "output_type": "execute_result"
    }
   ],
   "source": [
    "df = pd.read_csv('obesity-dataset-preprocessed.csv')\n",
    "df.shape"
   ]
  },
  {
   "cell_type": "code",
   "execution_count": 16,
   "metadata": {},
   "outputs": [
    {
     "name": "stdout",
     "output_type": "stream",
     "text": [
      "Epoch 0, Loss:0.443982683982684\n",
      "Epoch 4000, Loss:0.443982683982684\n",
      "Epoch 8000, Loss:0.443982683982684\n",
      "Epoch 12000, Loss:0.443982683982684\n",
      "Epoch 16000, Loss:0.443982683982684\n"
     ]
    },
    {
     "name": "stderr",
     "output_type": "stream",
     "text": [
      "c:\\Users\\INTEL\\AppData\\Local\\Programs\\Python\\Python311\\Lib\\site-packages\\sklearn\\metrics\\_classification.py:1509: UndefinedMetricWarning: Precision is ill-defined and being set to 0.0 in labels with no predicted samples. Use `zero_division` parameter to control this behavior.\n",
      "  _warn_prf(average, modifier, f\"{metric.capitalize()} is\", len(result))\n",
      "c:\\Users\\INTEL\\AppData\\Local\\Programs\\Python\\Python311\\Lib\\site-packages\\sklearn\\metrics\\_classification.py:1509: UndefinedMetricWarning: Precision is ill-defined and being set to 0.0 in labels with no predicted samples. Use `zero_division` parameter to control this behavior.\n",
      "  _warn_prf(average, modifier, f\"{metric.capitalize()} is\", len(result))\n",
      "c:\\Users\\INTEL\\AppData\\Local\\Programs\\Python\\Python311\\Lib\\site-packages\\sklearn\\metrics\\_classification.py:1509: UndefinedMetricWarning: Precision is ill-defined and being set to 0.0 in labels with no predicted samples. Use `zero_division` parameter to control this behavior.\n",
      "  _warn_prf(average, modifier, f\"{metric.capitalize()} is\", len(result))\n",
      "c:\\Users\\INTEL\\AppData\\Local\\Programs\\Python\\Python311\\Lib\\site-packages\\sklearn\\metrics\\_classification.py:1509: UndefinedMetricWarning: Precision is ill-defined and being set to 0.0 in labels with no predicted samples. Use `zero_division` parameter to control this behavior.\n",
      "  _warn_prf(average, modifier, f\"{metric.capitalize()} is\", len(result))\n",
      "c:\\Users\\INTEL\\AppData\\Local\\Programs\\Python\\Python311\\Lib\\site-packages\\sklearn\\metrics\\_classification.py:1509: UndefinedMetricWarning: Precision is ill-defined and being set to 0.0 in labels with no predicted samples. Use `zero_division` parameter to control this behavior.\n",
      "  _warn_prf(average, modifier, f\"{metric.capitalize()} is\", len(result))\n",
      "c:\\Users\\INTEL\\AppData\\Local\\Programs\\Python\\Python311\\Lib\\site-packages\\sklearn\\metrics\\_classification.py:1509: UndefinedMetricWarning: Precision is ill-defined and being set to 0.0 in labels with no predicted samples. Use `zero_division` parameter to control this behavior.\n",
      "  _warn_prf(average, modifier, f\"{metric.capitalize()} is\", len(result))\n"
     ]
    },
    {
     "name": "stdout",
     "output_type": "stream",
     "text": [
      "Fold Accuracy: 0.5672777585610516\n",
      "              precision    recall  f1-score   support\n",
      "\n",
      "           0       0.10      0.15      0.12        54\n",
      "           1       0.12      0.39      0.18        57\n",
      "           2       0.21      0.30      0.25        70\n",
      "           3       0.00      0.00      0.00        59\n",
      "           4       0.18      0.07      0.10        60\n",
      "           5       0.00      0.00      0.00        55\n",
      "           6       0.00      0.00      0.00        58\n",
      "\n",
      "    accuracy                           0.13       413\n",
      "   macro avg       0.09      0.13      0.09       413\n",
      "weighted avg       0.09      0.13      0.10       413\n",
      "\n",
      "Epoch 0, Loss:0.38043290043290046\n",
      "Epoch 4000, Loss:0.38043290043290046\n",
      "Epoch 8000, Loss:0.38043290043290046\n",
      "Epoch 12000, Loss:0.38043290043290046\n",
      "Epoch 16000, Loss:0.38043290043290046\n"
     ]
    },
    {
     "name": "stderr",
     "output_type": "stream",
     "text": [
      "c:\\Users\\INTEL\\AppData\\Local\\Programs\\Python\\Python311\\Lib\\site-packages\\sklearn\\metrics\\_classification.py:1509: UndefinedMetricWarning: Precision is ill-defined and being set to 0.0 in labels with no predicted samples. Use `zero_division` parameter to control this behavior.\n",
      "  _warn_prf(average, modifier, f\"{metric.capitalize()} is\", len(result))\n",
      "c:\\Users\\INTEL\\AppData\\Local\\Programs\\Python\\Python311\\Lib\\site-packages\\sklearn\\metrics\\_classification.py:1509: UndefinedMetricWarning: Precision is ill-defined and being set to 0.0 in labels with no predicted samples. Use `zero_division` parameter to control this behavior.\n",
      "  _warn_prf(average, modifier, f\"{metric.capitalize()} is\", len(result))\n",
      "c:\\Users\\INTEL\\AppData\\Local\\Programs\\Python\\Python311\\Lib\\site-packages\\sklearn\\metrics\\_classification.py:1509: UndefinedMetricWarning: Precision is ill-defined and being set to 0.0 in labels with no predicted samples. Use `zero_division` parameter to control this behavior.\n",
      "  _warn_prf(average, modifier, f\"{metric.capitalize()} is\", len(result))\n",
      "c:\\Users\\INTEL\\AppData\\Local\\Programs\\Python\\Python311\\Lib\\site-packages\\sklearn\\metrics\\_classification.py:1509: UndefinedMetricWarning: Precision is ill-defined and being set to 0.0 in labels with no predicted samples. Use `zero_division` parameter to control this behavior.\n",
      "  _warn_prf(average, modifier, f\"{metric.capitalize()} is\", len(result))\n",
      "c:\\Users\\INTEL\\AppData\\Local\\Programs\\Python\\Python311\\Lib\\site-packages\\sklearn\\metrics\\_classification.py:1509: UndefinedMetricWarning: Precision is ill-defined and being set to 0.0 in labels with no predicted samples. Use `zero_division` parameter to control this behavior.\n",
      "  _warn_prf(average, modifier, f\"{metric.capitalize()} is\", len(result))\n",
      "c:\\Users\\INTEL\\AppData\\Local\\Programs\\Python\\Python311\\Lib\\site-packages\\sklearn\\metrics\\_classification.py:1509: UndefinedMetricWarning: Precision is ill-defined and being set to 0.0 in labels with no predicted samples. Use `zero_division` parameter to control this behavior.\n",
      "  _warn_prf(average, modifier, f\"{metric.capitalize()} is\", len(result))\n"
     ]
    },
    {
     "name": "stdout",
     "output_type": "stream",
     "text": [
      "Fold Accuracy: 0.6302317537184365\n",
      "              precision    recall  f1-score   support\n",
      "\n",
      "           0       0.10      0.23      0.14        53\n",
      "           1       0.11      0.09      0.10        57\n",
      "           2       0.10      0.33      0.16        70\n",
      "           3       0.00      0.00      0.00        60\n",
      "           4       0.00      0.00      0.00        60\n",
      "           5       0.04      0.02      0.03        55\n",
      "           6       0.00      0.00      0.00        58\n",
      "\n",
      "    accuracy                           0.10       413\n",
      "   macro avg       0.05      0.09      0.06       413\n",
      "weighted avg       0.05      0.10      0.06       413\n",
      "\n",
      "Epoch 0, Loss:0.3741991341991342\n",
      "Epoch 4000, Loss:0.3741991341991342\n",
      "Epoch 8000, Loss:0.3741991341991342\n",
      "Epoch 12000, Loss:0.3741991341991342\n",
      "Epoch 16000, Loss:0.3741991341991342\n"
     ]
    },
    {
     "name": "stderr",
     "output_type": "stream",
     "text": [
      "c:\\Users\\INTEL\\AppData\\Local\\Programs\\Python\\Python311\\Lib\\site-packages\\sklearn\\metrics\\_classification.py:1509: UndefinedMetricWarning: Precision is ill-defined and being set to 0.0 in labels with no predicted samples. Use `zero_division` parameter to control this behavior.\n",
      "  _warn_prf(average, modifier, f\"{metric.capitalize()} is\", len(result))\n",
      "c:\\Users\\INTEL\\AppData\\Local\\Programs\\Python\\Python311\\Lib\\site-packages\\sklearn\\metrics\\_classification.py:1509: UndefinedMetricWarning: Precision is ill-defined and being set to 0.0 in labels with no predicted samples. Use `zero_division` parameter to control this behavior.\n",
      "  _warn_prf(average, modifier, f\"{metric.capitalize()} is\", len(result))\n",
      "c:\\Users\\INTEL\\AppData\\Local\\Programs\\Python\\Python311\\Lib\\site-packages\\sklearn\\metrics\\_classification.py:1509: UndefinedMetricWarning: Precision is ill-defined and being set to 0.0 in labels with no predicted samples. Use `zero_division` parameter to control this behavior.\n",
      "  _warn_prf(average, modifier, f\"{metric.capitalize()} is\", len(result))\n",
      "c:\\Users\\INTEL\\AppData\\Local\\Programs\\Python\\Python311\\Lib\\site-packages\\sklearn\\metrics\\_classification.py:1509: UndefinedMetricWarning: Precision is ill-defined and being set to 0.0 in labels with no predicted samples. Use `zero_division` parameter to control this behavior.\n",
      "  _warn_prf(average, modifier, f\"{metric.capitalize()} is\", len(result))\n",
      "c:\\Users\\INTEL\\AppData\\Local\\Programs\\Python\\Python311\\Lib\\site-packages\\sklearn\\metrics\\_classification.py:1509: UndefinedMetricWarning: Precision is ill-defined and being set to 0.0 in labels with no predicted samples. Use `zero_division` parameter to control this behavior.\n",
      "  _warn_prf(average, modifier, f\"{metric.capitalize()} is\", len(result))\n",
      "c:\\Users\\INTEL\\AppData\\Local\\Programs\\Python\\Python311\\Lib\\site-packages\\sklearn\\metrics\\_classification.py:1509: UndefinedMetricWarning: Precision is ill-defined and being set to 0.0 in labels with no predicted samples. Use `zero_division` parameter to control this behavior.\n",
      "  _warn_prf(average, modifier, f\"{metric.capitalize()} is\", len(result))\n"
     ]
    },
    {
     "name": "stdout",
     "output_type": "stream",
     "text": [
      "Fold Accuracy: 0.613628502248357\n",
      "              precision    recall  f1-score   support\n",
      "\n",
      "           0       0.17      0.60      0.26        53\n",
      "           1       0.13      0.29      0.18        56\n",
      "           2       0.07      0.06      0.06        70\n",
      "           3       0.14      0.03      0.05        60\n",
      "           4       0.48      0.25      0.33        60\n",
      "           5       0.50      0.02      0.03        56\n",
      "           6       0.00      0.00      0.00        58\n",
      "\n",
      "    accuracy                           0.17       413\n",
      "   macro avg       0.21      0.18      0.13       413\n",
      "weighted avg       0.21      0.17      0.13       413\n",
      "\n",
      "Epoch 0, Loss:0.35424418101583455\n",
      "Epoch 4000, Loss:0.35424418101583455\n",
      "Epoch 8000, Loss:0.35424418101583455\n",
      "Epoch 12000, Loss:0.35424418101583455\n",
      "Epoch 16000, Loss:0.35424418101583455\n"
     ]
    },
    {
     "name": "stderr",
     "output_type": "stream",
     "text": [
      "c:\\Users\\INTEL\\AppData\\Local\\Programs\\Python\\Python311\\Lib\\site-packages\\sklearn\\metrics\\_classification.py:1509: UndefinedMetricWarning: Precision is ill-defined and being set to 0.0 in labels with no predicted samples. Use `zero_division` parameter to control this behavior.\n",
      "  _warn_prf(average, modifier, f\"{metric.capitalize()} is\", len(result))\n",
      "c:\\Users\\INTEL\\AppData\\Local\\Programs\\Python\\Python311\\Lib\\site-packages\\sklearn\\metrics\\_classification.py:1509: UndefinedMetricWarning: Precision is ill-defined and being set to 0.0 in labels with no predicted samples. Use `zero_division` parameter to control this behavior.\n",
      "  _warn_prf(average, modifier, f\"{metric.capitalize()} is\", len(result))\n",
      "c:\\Users\\INTEL\\AppData\\Local\\Programs\\Python\\Python311\\Lib\\site-packages\\sklearn\\metrics\\_classification.py:1509: UndefinedMetricWarning: Precision is ill-defined and being set to 0.0 in labels with no predicted samples. Use `zero_division` parameter to control this behavior.\n",
      "  _warn_prf(average, modifier, f\"{metric.capitalize()} is\", len(result))\n",
      "c:\\Users\\INTEL\\AppData\\Local\\Programs\\Python\\Python311\\Lib\\site-packages\\sklearn\\metrics\\_classification.py:1509: UndefinedMetricWarning: Precision is ill-defined and being set to 0.0 in labels with no predicted samples. Use `zero_division` parameter to control this behavior.\n",
      "  _warn_prf(average, modifier, f\"{metric.capitalize()} is\", len(result))\n",
      "c:\\Users\\INTEL\\AppData\\Local\\Programs\\Python\\Python311\\Lib\\site-packages\\sklearn\\metrics\\_classification.py:1509: UndefinedMetricWarning: Precision is ill-defined and being set to 0.0 in labels with no predicted samples. Use `zero_division` parameter to control this behavior.\n",
      "  _warn_prf(average, modifier, f\"{metric.capitalize()} is\", len(result))\n",
      "c:\\Users\\INTEL\\AppData\\Local\\Programs\\Python\\Python311\\Lib\\site-packages\\sklearn\\metrics\\_classification.py:1509: UndefinedMetricWarning: Precision is ill-defined and being set to 0.0 in labels with no predicted samples. Use `zero_division` parameter to control this behavior.\n",
      "  _warn_prf(average, modifier, f\"{metric.capitalize()} is\", len(result))\n"
     ]
    },
    {
     "name": "stdout",
     "output_type": "stream",
     "text": [
      "Fold Accuracy: 0.6484049930651873\n",
      "              precision    recall  f1-score   support\n",
      "\n",
      "           0       0.18      0.30      0.23        53\n",
      "           1       0.14      0.73      0.23        56\n",
      "           2       0.09      0.01      0.02        71\n",
      "           3       0.50      0.10      0.17        59\n",
      "           4       0.00      0.00      0.00        60\n",
      "           5       0.00      0.00      0.00        55\n",
      "           6       0.00      0.00      0.00        58\n",
      "\n",
      "    accuracy                           0.16       412\n",
      "   macro avg       0.13      0.16      0.09       412\n",
      "weighted avg       0.13      0.16      0.09       412\n",
      "\n",
      "Epoch 0, Loss:0.4926018863026737\n",
      "Epoch 4000, Loss:0.4926018863026737\n",
      "Epoch 8000, Loss:0.4926018863026737\n",
      "Epoch 12000, Loss:0.4926018863026737\n",
      "Epoch 16000, Loss:0.4926018863026737\n"
     ]
    },
    {
     "name": "stderr",
     "output_type": "stream",
     "text": [
      "c:\\Users\\INTEL\\AppData\\Local\\Programs\\Python\\Python311\\Lib\\site-packages\\sklearn\\metrics\\_classification.py:1509: UndefinedMetricWarning: Precision is ill-defined and being set to 0.0 in labels with no predicted samples. Use `zero_division` parameter to control this behavior.\n",
      "  _warn_prf(average, modifier, f\"{metric.capitalize()} is\", len(result))\n",
      "c:\\Users\\INTEL\\AppData\\Local\\Programs\\Python\\Python311\\Lib\\site-packages\\sklearn\\metrics\\_classification.py:1509: UndefinedMetricWarning: Precision is ill-defined and being set to 0.0 in labels with no predicted samples. Use `zero_division` parameter to control this behavior.\n",
      "  _warn_prf(average, modifier, f\"{metric.capitalize()} is\", len(result))\n",
      "c:\\Users\\INTEL\\AppData\\Local\\Programs\\Python\\Python311\\Lib\\site-packages\\sklearn\\metrics\\_classification.py:1509: UndefinedMetricWarning: Precision is ill-defined and being set to 0.0 in labels with no predicted samples. Use `zero_division` parameter to control this behavior.\n",
      "  _warn_prf(average, modifier, f\"{metric.capitalize()} is\", len(result))\n",
      "c:\\Users\\INTEL\\AppData\\Local\\Programs\\Python\\Python311\\Lib\\site-packages\\sklearn\\metrics\\_classification.py:1509: UndefinedMetricWarning: Precision is ill-defined and being set to 0.0 in labels with no predicted samples. Use `zero_division` parameter to control this behavior.\n",
      "  _warn_prf(average, modifier, f\"{metric.capitalize()} is\", len(result))\n",
      "c:\\Users\\INTEL\\AppData\\Local\\Programs\\Python\\Python311\\Lib\\site-packages\\sklearn\\metrics\\_classification.py:1509: UndefinedMetricWarning: Precision is ill-defined and being set to 0.0 in labels with no predicted samples. Use `zero_division` parameter to control this behavior.\n",
      "  _warn_prf(average, modifier, f\"{metric.capitalize()} is\", len(result))\n",
      "c:\\Users\\INTEL\\AppData\\Local\\Programs\\Python\\Python311\\Lib\\site-packages\\sklearn\\metrics\\_classification.py:1509: UndefinedMetricWarning: Precision is ill-defined and being set to 0.0 in labels with no predicted samples. Use `zero_division` parameter to control this behavior.\n",
      "  _warn_prf(average, modifier, f\"{metric.capitalize()} is\", len(result))\n"
     ]
    },
    {
     "name": "stdout",
     "output_type": "stream",
     "text": [
      "Fold Accuracy: 0.518377253814147\n",
      "              precision    recall  f1-score   support\n",
      "\n",
      "           0       0.08      0.37      0.13        54\n",
      "           1       0.19      0.39      0.26        56\n",
      "           2       0.00      0.00      0.00        70\n",
      "           3       0.05      0.03      0.04        59\n",
      "           4       0.00      0.00      0.00        60\n",
      "           5       1.00      0.05      0.10        55\n",
      "           6       0.00      0.00      0.00        58\n",
      "\n",
      "    accuracy                           0.11       412\n",
      "   macro avg       0.19      0.12      0.08       412\n",
      "weighted avg       0.18      0.11      0.07       412\n",
      "\n",
      "Average Accuracy: 0.595584052281436\n"
     ]
    },
    {
     "data": {
      "image/png": "[encoded data removed]",
      "text/plain": [
       "<Figure size 1200x800 with 2 Axes>"
      ]
     },
     "metadata": {},
     "output_type": "display_data"
    }
   ],
   "source": [
    "# Memisahkan fitur dan target\n",
    "X = df.drop('NObeyesdad', axis=1)\n",
    "y = df['NObeyesdad']\n",
    "\n",
    "# Convert labels to one-hot encoding\n",
    "y_one_hot = pd.get_dummies(y).to_numpy()\n",
    "\n",
    "# Convert features to numpy\n",
    "X = X.to_numpy()\n",
    "\n",
    "# Scaling features (Hanya data pelatihan yang di-fit oleh scaler)\n",
    "scaler = StandardScaler()\n",
    "\n",
    "# Initialize cross-validation\n",
    "n_splits = 5\n",
    "skf = StratifiedKFold(n_splits=n_splits, shuffle=True, random_state=42)\n",
    "\n",
    "# Model parameters\n",
    "input_size = X.shape[1]\n",
    "hidden_size = 10\n",
    "output_size = y_one_hot.shape[1]\n",
    "\n",
    "# Placeholder for overall metrics\n",
    "accuracies = []\n",
    "classification_reports = []\n",
    "confusion_matrices = []\n",
    "\n",
    "# Cross-validation loop\n",
    "for train_index, test_index in skf.split(X, y):\n",
    "    X_train, X_test = X[train_index], X[test_index]\n",
    "    y_train, y_test = y_one_hot[train_index], y_one_hot[test_index]\n",
    "\n",
    "    # Scaling the features (fit scaler only on training data)\n",
    "    X_train_scaled = scaler.fit_transform(X_train)  # Fit and transform on train\n",
    "    X_test_scaled = scaler.transform(X_test)        # Only transform on test\n",
    "\n",
    "    # Initialize and train the neural network with ReLU and Softmax\n",
    "    nn = Backpropagation(input_size, hidden_size, hidden_size, output_size)  # Coba dengan softmax\n",
    "    nn.train(X_train_scaled, y_train, epochs=20000, learning_rate=0.0005)\n",
    "\n",
    "    # Generate predictions\n",
    "    output = nn.feedforward(X_test_scaled)\n",
    "    output = np.round(output)  # Round output to get 0 or 1\n",
    "\n",
    "    # Calculate accuracy\n",
    "    accuracy = np.mean(output == y_test)\n",
    "    accuracies.append(accuracy)\n",
    "\n",
    "    # Store classification report and confusion matrix\n",
    "    classification_reports.append(classification_report(y_test.argmax(axis=1), output.argmax(axis=1), output_dict=True))\n",
    "    confusion_matrices.append(confusion_matrix(y_test.argmax(axis=1), output.argmax(axis=1)))\n",
    "\n",
    "    print(f\"Fold Accuracy: {accuracy}\")\n",
    "    print(classification_report(y_test.argmax(axis=1), output.argmax(axis=1)))\n",
    "\n",
    "# Average accuracy across folds\n",
    "print(f\"Average Accuracy: {np.mean(accuracies)}\")\n",
    "\n",
    "# Aggregate confusion matrix\n",
    "average_cm = np.mean(confusion_matrices, axis=0)\n",
    "\n",
    "# Plot aggregated confusion matrix\n",
    "plt.figure(figsize=(12, 8))\n",
    "sns.heatmap(average_cm, annot=True, fmt='g', cmap='Blues')\n",
    "plt.title(\"Aggregated Confusion Matrix\")\n",
    "plt.show()\n"
   ]
  }
 ],
 "metadata": {
  "kernelspec": {
   "display_name": "Python 3",
   "language": "python",
   "name": "python3"
  },
  "language_info": {
   "codemirror_mode": {
    "name": "ipython",
    "version": 3
   },
   "file_extension": ".py",
   "mimetype": "text/x-python",
   "name": "python",
   "nbconvert_exporter": "python",
   "pygments_lexer": "ipython3",
   "version": "3.11.2"
  }
 },
 "nbformat": 4,
 "nbformat_minor": 2
}
